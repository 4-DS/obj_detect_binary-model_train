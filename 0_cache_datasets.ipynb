{
 "cells": [
  {
   "cell_type": "code",
   "execution_count": null,
   "id": "ad04d1be-6d0f-4b00-b851-d04a47c143f3",
   "metadata": {
    "tags": []
   },
   "outputs": [],
   "source": [
    "%load_ext autoreload\n",
    "%autoreload 2"
   ]
  },
  {
   "cell_type": "code",
   "execution_count": null,
   "id": "4ca387ca-7474-4757-b60c-21d1df8553ac",
   "metadata": {
    "tags": [
     "parameters"
    ]
   },
   "outputs": [],
   "source": [
    "#2. specify parameters\n",
    "pipeline_params={\n",
    "}\n",
    "step_params={\n",
    "}\n",
    "substep_params={   \n",
    "}"
   ]
  },
  {
   "cell_type": "code",
   "execution_count": null,
   "id": "4e69a785-9630-413e-adfd-a106acfa878c",
   "metadata": {
    "tags": []
   },
   "outputs": [],
   "source": [
    "#3 define substep interface\n",
    "from sinara.substep import NotebookSubstep, default_param_values, ENV_NAME, PIPELINE_NAME, ZONE_NAME, STEP_NAME, RUN_ID, ENTITY_NAME, ENTITY_PATH, SUBSTEP_NAME\n",
    "\n",
    "substep = NotebookSubstep(pipeline_params, step_params, substep_params, **default_param_values(\"params/step_params.json\"))\n",
    "\n",
    "substep.interface(\n",
    "    inputs =\n",
    "    [ \n",
    "      { STEP_NAME: \"1_data_import\", ENTITY_NAME: \"train_coco_data\"},\n",
    "      { STEP_NAME: \"1_data_import\", ENTITY_NAME: \"eval_coco_data\"},\n",
    "      { STEP_NAME: \"1_data_import\", ENTITY_NAME: \"test_coco_data\"},\n",
    "      { STEP_NAME: \"1_data_import\", ENTITY_NAME: \"config\"}\n",
    "    ],\n",
    "    \n",
    "    tmp_outputs =\n",
    "    [\n",
    "        { ENTITY_NAME: \"aug_dataset\" },\n",
    "        { ENTITY_NAME: \"cache_config\" },\n",
    "        { ENTITY_NAME: \"cache_data\" },\n",
    "        { ENTITY_NAME: \"pretrain_weights\"}\n",
    "    ]\n",
    ")\n",
    "\n",
    "substep.print_interface_info()\n",
    "\n",
    "substep.exit_in_visualize_mode()"
   ]
  },
  {
   "cell_type": "markdown",
   "id": "5b3a900a-22d5-4787-ab3d-62bbd9bcee0f",
   "metadata": {
    "tags": []
   },
   "source": [
    "![interface 0_cache_datasets](./imgs/0_cache_datasets.drawio.png)"
   ]
  },
  {
   "cell_type": "code",
   "execution_count": null,
   "id": "bf768ee9-6df2-4d68-b675-3154487d5277",
   "metadata": {
    "tags": []
   },
   "outputs": [],
   "source": [
    "#4 get substep.interface\n",
    "inputs = substep.inputs(step_name = \"1_data_import\")\n",
    "outputs = substep.outputs()\n",
    "tmp_outputs = substep.tmp_outputs()\n",
    "\n",
    "print(f\"{inputs.train_coco_data=}\")\n",
    "print(f\"{inputs.eval_coco_data=}\")\n",
    "print(f\"{inputs.test_coco_data=}\")\n",
    "print(f\"{inputs.config=}\")\n",
    "\n",
    "print(f\"{tmp_outputs.aug_dataset=}\")\n",
    "print(f\"{tmp_outputs.cache_config=}\")\n",
    "print(f\"{tmp_outputs.cache_data=}\")\n",
    "print(f\"{tmp_outputs.pretrain_weights=}\")"
   ]
  },
  {
   "cell_type": "code",
   "execution_count": null,
   "id": "2ee87688-0451-41bc-9374-444189c2a62a",
   "metadata": {
    "tags": []
   },
   "outputs": [],
   "source": [
    "# Create dir by URLs of tmp_outputs\n",
    "import os\n",
    "os.makedirs(tmp_outputs.aug_dataset, exist_ok=True)\n",
    "os.makedirs(tmp_outputs.cache_config, exist_ok=True)\n",
    "os.makedirs(tmp_outputs.cache_data, exist_ok=True)\n",
    "os.makedirs(tmp_outputs.pretrain_weights, exist_ok=True)"
   ]
  },
  {
   "cell_type": "code",
   "execution_count": null,
   "id": "9c63bfdf-7df3-4e53-85c4-bf62259373b8",
   "metadata": {
    "tags": []
   },
   "outputs": [],
   "source": [
    "#5 run spark\n",
    "from sinara.spark import SinaraSpark\n",
    "\n",
    "spark = SinaraSpark.run_session(0)\n",
    "SinaraSpark.ui_url()"
   ]
  },
  {
   "cell_type": "markdown",
   "id": "600d84de-13b1-46da-b666-6085adc386fc",
   "metadata": {},
   "source": [
    "#### Loading processed datasets and configuration files (from the previous component 1_data_import)"
   ]
  },
  {
   "cell_type": "code",
   "execution_count": null,
   "id": "4f7b1bb6-a860-4a34-8cc2-1c894f1cab5a",
   "metadata": {
    "tags": []
   },
   "outputs": [],
   "source": [
    "import os.path as osp\n",
    "import os\n",
    "from sinara.store import SinaraStore\n",
    "from pathlib import Path\n",
    "\n",
    "# copy config from previos step to outputs\n",
    "SinaraStore.copy_store_files_to_tmp(store_dir=inputs.config, tmp_dir=tmp_outputs.cache_config)\n",
    "# Create SUCCESS file after copy from store\n",
    "Path(osp.join(tmp_outputs.cache_config, '_SUCCESS')).touch()"
   ]
  },
  {
   "cell_type": "code",
   "execution_count": null,
   "id": "27d1ae40-e546-46f0-9806-dc282b453f35",
   "metadata": {
    "tags": []
   },
   "outputs": [],
   "source": [
    "### load dataset from parquet\n",
    "def save_file(row): \n",
    "    total_dir_name = tmp_outputs.aug_dataset\n",
    "    total_img_path = osp.join(total_dir_name, row.file_names)\n",
    "    os.makedirs(total_dir_name, exist_ok=True)\n",
    "    with open(total_img_path, 'wb') as f_id:\n",
    "        f_id.write(row.files_binary)"
   ]
  },
  {
   "cell_type": "code",
   "execution_count": null,
   "id": "45eee774-f478-48a7-bded-c54c1877aba1",
   "metadata": {
    "tags": []
   },
   "outputs": [],
   "source": [
    "%%time\n",
    "\n",
    "# CACHE TEST\n",
    "\n",
    "print(f\"spark read start\")\n",
    "\n",
    "df_spark = spark.read.parquet(inputs.test_coco_data)\n",
    "df_spark.foreach(save_file)"
   ]
  },
  {
   "cell_type": "code",
   "execution_count": null,
   "id": "340bfd45-bd58-43ab-9d13-adb264aaeda3",
   "metadata": {
    "tags": []
   },
   "outputs": [],
   "source": [
    "%%time\n",
    "\n",
    "# CACHE VALID\n",
    "\n",
    "print(f\"spark read start\")\n",
    "\n",
    "df_spark = spark.read.parquet(inputs.eval_coco_data)\n",
    "df_spark.foreach(save_file)"
   ]
  },
  {
   "cell_type": "code",
   "execution_count": null,
   "id": "7d0c4e71-9f5e-4aaf-a535-27294115a210",
   "metadata": {
    "tags": []
   },
   "outputs": [],
   "source": [
    "%%time\n",
    "\n",
    "# CACHE TRAIN\n",
    "\n",
    "print(f\"spark read start\")\n",
    "\n",
    "df_spark = spark.read.parquet(inputs.train_coco_data)\n",
    "df_spark.foreach(save_file)"
   ]
  },
  {
   "cell_type": "code",
   "execution_count": null,
   "id": "c0234ea7-608b-4835-8b3a-64601b1778db",
   "metadata": {
    "tags": []
   },
   "outputs": [],
   "source": [
    "# Create SUCCESS file\n",
    "Path(osp.join(tmp_outputs.aug_dataset, '_SUCCESS')).touch()\n",
    "Path(osp.join(tmp_outputs.cache_data, '_SUCCESS')).touch()\n",
    "Path(osp.join(tmp_outputs.pretrain_weights, '_SUCCESS')).touch()"
   ]
  },
  {
   "cell_type": "code",
   "execution_count": null,
   "id": "67860126-bb3c-4737-9142-f67877045ec7",
   "metadata": {
    "tags": []
   },
   "outputs": [],
   "source": [
    "#9 stop spark\n",
    "SinaraSpark.stop_session()"
   ]
  },
  {
   "cell_type": "code",
   "execution_count": null,
   "id": "d3afa4ca-cb6d-4470-8da6-b84e4e0e74fc",
   "metadata": {},
   "outputs": [],
   "source": []
  }
 ],
 "metadata": {
  "kernelspec": {
   "display_name": "cv",
   "language": "python",
   "name": "cv"
  },
  "language_info": {
   "codemirror_mode": {
    "name": "ipython",
    "version": 3
   },
   "file_extension": ".py",
   "mimetype": "text/x-python",
   "name": "python",
   "nbconvert_exporter": "python",
   "pygments_lexer": "ipython3",
   "version": "3.9.10"
  }
 },
 "nbformat": 4,
 "nbformat_minor": 5
}
