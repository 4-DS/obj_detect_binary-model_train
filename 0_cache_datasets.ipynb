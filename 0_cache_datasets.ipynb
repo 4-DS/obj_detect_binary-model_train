{
 "cells": [
  {
   "cell_type": "code",
   "execution_count": null,
   "id": "ad04d1be-6d0f-4b00-b851-d04a47c143f3",
   "metadata": {
    "tags": []
   },
   "outputs": [],
   "source": [
    "%load_ext autoreload\n",
    "%autoreload 2"
   ]
  },
  {
   "cell_type": "code",
   "execution_count": null,
   "id": "4ca387ca-7474-4757-b60c-21d1df8553ac",
   "metadata": {
    "tags": [
     "parameters"
    ]
   },
   "outputs": [],
   "source": [
    "#2. specify parameters\n",
    "pipeline_params={\n",
    "}\n",
    "step_params={\n",
    "}\n",
    "substep_params={   \n",
    "}"
   ]
  },
  {
   "cell_type": "code",
   "execution_count": null,
   "id": "4e69a785-9630-413e-adfd-a106acfa878c",
   "metadata": {
    "tags": []
   },
   "outputs": [],
   "source": [
    "#3 define substep interface\n",
    "from sinara.substep import NotebookSubstep, default_param_values, ENV_NAME, PIPELINE_NAME, ZONE_NAME, STEP_NAME, RUN_ID, ENTITY_NAME, ENTITY_PATH, SUBSTEP_NAME\n",
    "\n",
    "substep = NotebookSubstep(pipeline_params, step_params, substep_params, **default_param_values(\"params/step_params.json\"))\n",
    "\n",
    "substep.interface(\n",
    "    inputs =\n",
    "    [ { STEP_NAME: \"1_data_import\", ENTITY_NAME: \"train_coco_data\",  RUN_ID: \"run-23-10-12-065624\"},\n",
    "      { STEP_NAME: \"1_data_import\", ENTITY_NAME: \"eval_coco_data\",  RUN_ID: \"run-23-10-12-065624\"},\n",
    "      { STEP_NAME: \"1_data_import\", ENTITY_NAME: \"cache_config\",  RUN_ID: \"run-23-10-12-065624\"}\n",
    "    ],\n",
    "    \n",
    "    outputs = \n",
    "    [\n",
    "        { ENTITY_NAME: \"aug_dataset\"},\n",
    "        { ENTITY_NAME: \"config\"}\n",
    "    ],\n",
    "    \n",
    "    tmp_outputs =\n",
    "    [\n",
    "        { ENTITY_NAME: \"cache_data\" }\n",
    "    ]\n",
    ")\n",
    "\n",
    "substep.print_interface_info()\n",
    "\n",
    "substep.exit_in_visualize_mode()"
   ]
  },
  {
   "cell_type": "code",
   "execution_count": null,
   "id": "bf768ee9-6df2-4d68-b675-3154487d5277",
   "metadata": {
    "tags": []
   },
   "outputs": [],
   "source": [
    "#4 get substep.interface\n",
    "inputs = substep.inputs(step_name = \"1_data_import\")\n",
    "outputs = substep.outputs()\n",
    "tmp_outputs = substep.tmp_outputs()\n",
    "\n",
    "print(f\"{inputs.train_coco_data=}\")\n",
    "print(f\"{inputs.eval_coco_data=}\")\n",
    "print(f\"{inputs.cache_config=}\")\n",
    "\n",
    "print(f\"{outputs.aug_dataset=}\")\n",
    "print(f\"{outputs.config=}\")\n",
    "\n",
    "print(f\"{tmp_outputs.cache_data=}\")"
   ]
  },
  {
   "cell_type": "code",
   "execution_count": null,
   "id": "9c63bfdf-7df3-4e53-85c4-bf62259373b8",
   "metadata": {
    "tags": []
   },
   "outputs": [],
   "source": [
    "#5 run spark\n",
    "from sinara.spark import SinaraSpark\n",
    "\n",
    "spark = SinaraSpark.run_session(0)\n",
    "SinaraSpark.ui_url()"
   ]
  },
  {
   "cell_type": "code",
   "execution_count": null,
   "id": "c3f9585b-05c7-4c2b-80d6-44e087cbc67c",
   "metadata": {
    "tags": []
   },
   "outputs": [],
   "source": [
    "import os.path as osp\n",
    "import os"
   ]
  },
  {
   "cell_type": "code",
   "execution_count": null,
   "id": "2654ae5b-4a3e-40ea-b0eb-1a81782f7f51",
   "metadata": {
    "tags": []
   },
   "outputs": [],
   "source": [
    "os.makedirs(tmp_outputs.cache_data, exist_ok=True)\n",
    "os.makedirs(outputs.aug_dataset, exist_ok=True)\n",
    "os.makedirs(outputs.config, exist_ok=True)"
   ]
  },
  {
   "cell_type": "code",
   "execution_count": null,
   "id": "6b178e38-6cf9-43dc-b18c-f1e0f2b4151f",
   "metadata": {
    "tags": []
   },
   "outputs": [],
   "source": [
    "import json\n",
    "\n",
    "config_fn = os.path.join(inputs.cache_config, 'config.json')\n",
    "\n",
    "with open(config_fn) as f_id:\n",
    "    CONFIG = json.load(f_id)\n",
    "\n",
    "CONFIG"
   ]
  },
  {
   "cell_type": "markdown",
   "id": "e1f8c7f4-f6a5-4e3a-8f60-69f5edfd7a5c",
   "metadata": {},
   "source": [
    "#### Загрузка обработанных датасетов (пред. компонента 1_data_import)"
   ]
  },
  {
   "cell_type": "code",
   "execution_count": null,
   "id": "2038592e-758d-4945-8be6-bfd477f6d935",
   "metadata": {
    "tags": []
   },
   "outputs": [],
   "source": [
    "def save_file(row): \n",
    "    total_dir_name = outputs.aug_dataset\n",
    "    total_img_path = osp.join(total_dir_name, row.file_names)\n",
    "    os.makedirs(total_dir_name, exist_ok=True)\n",
    "    with open(total_img_path, 'wb') as f_id:\n",
    "        f_id.write(row.files_binary)\n"
   ]
  },
  {
   "cell_type": "code",
   "execution_count": null,
   "id": "45eee774-f478-48a7-bded-c54c1877aba1",
   "metadata": {
    "tags": []
   },
   "outputs": [],
   "source": [
    "%%time\n",
    "\n",
    "# CACHE TEST\n",
    "\n",
    "print(f\"spark read start\")\n",
    "\n",
    "df_spark = spark.read.parquet(inputs.eval_coco_data)\n",
    "df_spark.foreach(save_file)"
   ]
  },
  {
   "cell_type": "code",
   "execution_count": null,
   "id": "7d0c4e71-9f5e-4aaf-a535-27294115a210",
   "metadata": {
    "tags": []
   },
   "outputs": [],
   "source": [
    "%%time\n",
    "\n",
    "# CACHE TRAIN\n",
    "\n",
    "print(f\"spark read start\")\n",
    "\n",
    "df_spark = spark.read.parquet(inputs.train_coco_data)\n",
    "df_spark.foreach(save_file)"
   ]
  },
  {
   "cell_type": "code",
   "execution_count": null,
   "id": "8efefc8b-97a6-4dc9-b5f3-6d9fb668ce11",
   "metadata": {
    "tags": []
   },
   "outputs": [],
   "source": [
    "CONFIG"
   ]
  },
  {
   "cell_type": "code",
   "execution_count": null,
   "id": "57a7e060-0436-42b3-afb1-30395d874509",
   "metadata": {
    "tags": []
   },
   "outputs": [],
   "source": [
    "import json\n",
    "\n",
    "train_coco_annotation = os.path.join(inputs.cache_config, CONFIG[\"train_coco_annotation\"])\n",
    "val_coco_annotation = os.path.join(inputs.cache_config, CONFIG[\"val_coco_annotation\"])\n",
    "\n",
    "with open(train_coco_annotation) as f_id:\n",
    "    train_coco = json.load(f_id)\n",
    "\n",
    "with open(val_coco_annotation) as f_id:\n",
    "    val_coco = json.load(f_id)\n",
    "\n",
    "with open(osp.join(outputs.config,  CONFIG[\"train_coco_annotation\"]), 'w') as f:\n",
    "    json.dump(train_coco, f, indent=4)\n",
    "\n",
    "with open(osp.join(outputs.config,  CONFIG[\"val_coco_annotation\"]), 'w') as f:\n",
    "    json.dump(val_coco, f, indent=4)\n",
    "    \n",
    "config_path = osp.join(outputs.config, \"config.json\")\n",
    "with open(config_path, 'w') as f:\n",
    "    json.dump(CONFIG, f, indent=4)"
   ]
  },
  {
   "cell_type": "code",
   "execution_count": null,
   "id": "5c990ec0-c038-4f82-87e7-bd98ae5c3262",
   "metadata": {
    "tags": []
   },
   "outputs": [],
   "source": [
    "!cat {config_path}"
   ]
  },
  {
   "cell_type": "code",
   "execution_count": null,
   "id": "67860126-bb3c-4737-9142-f67877045ec7",
   "metadata": {
    "tags": []
   },
   "outputs": [],
   "source": [
    "#9 stop spark\n",
    "SinaraSpark.stop_session()"
   ]
  },
  {
   "cell_type": "code",
   "execution_count": null,
   "id": "98558ab2-aec1-4a91-92ff-77f866edd1f1",
   "metadata": {},
   "outputs": [],
   "source": []
  }
 ],
 "metadata": {
  "kernelspec": {
   "display_name": "cv",
   "language": "python",
   "name": "cv"
  },
  "language_info": {
   "codemirror_mode": {
    "name": "ipython",
    "version": 3
   },
   "file_extension": ".py",
   "mimetype": "text/x-python",
   "name": "python",
   "nbconvert_exporter": "python",
   "pygments_lexer": "ipython3",
   "version": "3.9.10"
  }
 },
 "nbformat": 4,
 "nbformat_minor": 5
}
