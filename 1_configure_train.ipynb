{
 "cells": [
  {
   "cell_type": "code",
   "execution_count": null,
   "id": "fe22dd98-718d-409f-b62f-67b79e10c046",
   "metadata": {
    "tags": []
   },
   "outputs": [],
   "source": [
    "%load_ext autoreload\n",
    "%autoreload 2"
   ]
  },
  {
   "cell_type": "code",
   "execution_count": null,
   "id": "96134cc9-1284-4cf3-9907-fdaf7a3c16f5",
   "metadata": {
    "tags": [
     "parameters"
    ]
   },
   "outputs": [],
   "source": [
    "#2. specify parameters\n",
    "pipeline_params={\n",
    "}\n",
    "step_params={\n",
    "}\n",
    "substep_params={   \n",
    "    \"MAX_SIZE\"     : 640,\n",
    "    \"BATCH\"        : 8,\n",
    "    \"WORKERS\"      : 0,\n",
    "    \"SEED\"         : 42,\n",
    "    \"EPOCH_COUNT\"  : 5,\n",
    "    \"MODEL_NAME\"   : \"yolox_s\",\n",
    "    \"optimizer_lr\" : 0.001,\n",
    "    \"pretrain_weights\": \"https://download.openmmlab.com/mmdetection/v2.0/yolox/yolox_s_8x8_300e_coco/yolox_s_8x8_300e_coco_20211121_095711-4592a793.pth\"\n",
    "}"
   ]
  },
  {
   "cell_type": "code",
   "execution_count": null,
   "id": "e383d50f-8470-4e98-923f-6e7242250f28",
   "metadata": {
    "tags": []
   },
   "outputs": [],
   "source": [
    "#3 define substep interface\n",
    "from sinara.substep import NotebookSubstep, default_param_values, ENV_NAME, PIPELINE_NAME, ZONE_NAME, STEP_NAME, RUN_ID, ENTITY_NAME, ENTITY_PATH, SUBSTEP_NAME\n",
    "\n",
    "substep = NotebookSubstep(pipeline_params, step_params, substep_params, **default_param_values(\"params/step_params.json\"))\n",
    "\n",
    "substep.interface(\n",
    "    \n",
    "    tmp_inputs =\n",
    "    [\n",
    "        { ENTITY_NAME: \"aug_dataset\" },\n",
    "        { ENTITY_NAME: \"cache_config\" },\n",
    "        { ENTITY_NAME: \"cache_data\" },\n",
    "        { ENTITY_NAME: \"pretrain_weights\"}        \n",
    "    ]\n",
    "    \n",
    ")\n",
    "\n",
    "substep.print_interface_info()\n",
    "\n",
    "substep.exit_in_visualize_mode()"
   ]
  },
  {
   "cell_type": "markdown",
   "id": "0a613f37-8d49-445e-b297-e83953216a87",
   "metadata": {},
   "source": [
    "![interface 1_configure_train.drawio](./imgs/1_configure_train.drawio.png)"
   ]
  },
  {
   "cell_type": "code",
   "execution_count": null,
   "id": "8752723a-f41f-4f97-a1bd-b3bbeca2e9cd",
   "metadata": {
    "tags": []
   },
   "outputs": [],
   "source": [
    "#4 get substep.interface\n",
    "tmp_inputs = substep.tmp_inputs()\n",
    "\n",
    "print(f\"{tmp_inputs.cache_data=}\")\n",
    "print(f\"{tmp_inputs.pretrain_weights=}\")\n",
    "print(f\"{tmp_inputs.cache_config=}\")\n",
    "print(f\"{tmp_inputs.aug_dataset=}\")"
   ]
  },
  {
   "cell_type": "code",
   "execution_count": null,
   "id": "a9d2f6ca-d09e-48ac-836c-16f83baba10b",
   "metadata": {
    "tags": []
   },
   "outputs": [],
   "source": [
    "import logging\n",
    "import os.path as osp\n",
    "import os\n",
    "from pathlib import Path\n",
    "logging.root.setLevel(substep_params.get('loggingLevel', 'INFO'))\n",
    "logging.debug('Запись.')"
   ]
  },
  {
   "cell_type": "code",
   "execution_count": null,
   "id": "79907e7f-9aa2-4b74-af0a-e536a34595b7",
   "metadata": {
    "tags": []
   },
   "outputs": [],
   "source": [
    "#5 run spark\n",
    "from sinara.spark import SinaraSpark\n",
    "\n",
    "spark = SinaraSpark.run_session(0)\n",
    "SinaraSpark.ui_url()"
   ]
  },
  {
   "cell_type": "code",
   "execution_count": null,
   "id": "cd306a8a-f479-41cb-bcf2-3154444bcf6f",
   "metadata": {
    "tags": [
     "parameters"
    ]
   },
   "outputs": [],
   "source": [
    "# Load pretrain weights to directory of pretrain_weights\n",
    "data_url = substep_params[\"pretrain_weights\"]\n",
    "pretrain_weights_path = osp.join(tmp_inputs.pretrain_weights, osp.basename(data_url))\n",
    " \n",
    "!wget {data_url} -O {pretrain_weights_path}\n",
    "\n",
    "# Create SUCCESS file after successful download\n",
    "Path(osp.join(tmp_inputs.pretrain_weights, '_SUCCESS')).touch()"
   ]
  },
  {
   "cell_type": "markdown",
   "id": "60b12338-5a95-414d-a3a5-bb61093e7e96",
   "metadata": {},
   "source": [
    "#### Read config and append training paramers"
   ]
  },
  {
   "cell_type": "code",
   "execution_count": null,
   "id": "99747867-4049-41a7-92d6-660883259cdf",
   "metadata": {
    "tags": []
   },
   "outputs": [],
   "source": [
    "import json\n",
    "import os.path as osp\n",
    "\n",
    "config_fn = os.path.join(tmp_inputs.cache_config, 'config.json')\n",
    "\n",
    "with open(config_fn) as f_id:\n",
    "    CONFIG = json.load(f_id)\n",
    "\n",
    "CONFIG"
   ]
  },
  {
   "cell_type": "code",
   "execution_count": null,
   "id": "02b5b248-6921-4f26-9dde-b6d2511a41e6",
   "metadata": {
    "tags": []
   },
   "outputs": [],
   "source": [
    "CONFIG['train_config_parameters'] = substep_params"
   ]
  },
  {
   "cell_type": "code",
   "execution_count": null,
   "id": "2b9a894d-4153-4fe8-a709-5a5048e8c8f7",
   "metadata": {},
   "outputs": [],
   "source": [
    "CONFIG['train_config_parameters'][\"Normalize\"] = {'mean': [123.675, 116.28, 103.53],\n",
    "                                                  'std': [58.395, 57.12, 57.375],\n",
    "                                                  'to_rgb': True}"
   ]
  },
  {
   "cell_type": "code",
   "execution_count": null,
   "id": "376a0d4a-4a98-41fb-b272-332b3ffa2207",
   "metadata": {
    "tags": []
   },
   "outputs": [],
   "source": [
    "import torch, torchvision\n",
    "\n",
    "print(f\"{torch.__version__=}\")\n",
    "print(f\"{torch.cuda.is_available()=}\")\n",
    "print(f\"{torchvision.__version__=}\")\n",
    "\n",
    "if torch.cuda.is_available():\n",
    "    device_id = torch.cuda.current_device()\n",
    "    device_name = torch.cuda.get_device_name(device_id)\n",
    "    print(f\"{device_name=}\")\n",
    "    print(f\"{torch.cuda.device_count()=}\")"
   ]
  },
  {
   "cell_type": "markdown",
   "id": "104d18eb-0dce-40d1-915f-cdb114679c06",
   "metadata": {},
   "source": [
    "## Setting up the training model\n"
   ]
  },
  {
   "cell_type": "markdown",
   "id": "554338f3-0ea8-4bc8-93cd-08f51fc35c05",
   "metadata": {},
   "source": [
    "\n",
    "#### Initializing modules from mmdetection, mmcv"
   ]
  },
  {
   "cell_type": "markdown",
   "id": "ff3b5c8c-0947-4836-8826-a7ed6a3c391a",
   "metadata": {
    "tags": []
   },
   "source": [
    "Augmentation pipelines for training and validation"
   ]
  },
  {
   "cell_type": "code",
   "execution_count": null,
   "id": "896a866d-f114-41e6-8ea7-01db55cdc0d1",
   "metadata": {
    "tags": []
   },
   "outputs": [],
   "source": [
    "import copy\n",
    "import os\n",
    "import os.path as osp\n",
    "import time\n",
    "import warnings\n",
    "import math\n",
    "\n",
    "import mmcv\n",
    "from mmcv import Config, ConfigDict\n",
    "\n",
    "import mmdet\n",
    "from mmdet.apis import init_random_seed, set_random_seed, train_detector\n",
    "from mmdet.datasets import build_dataset\n",
    "from mmdet.models import build_detector\n",
    "from mmdet.utils import get_root_logger\n",
    "import mmcls.models\n",
    "\n",
    "print(f\"{mmcv.__version__=}\")\n",
    "print(f\"{mmdet.__version__=}\")"
   ]
  },
  {
   "cell_type": "markdown",
   "id": "dc5b70a5-98dc-4d15-a2e1-bf3bc0101feb",
   "metadata": {},
   "source": [
    "#### Determining the basic parameters for training the model"
   ]
  },
  {
   "cell_type": "code",
   "execution_count": null,
   "id": "546ebe19-39a8-4952-834f-765eb979b706",
   "metadata": {
    "tags": []
   },
   "outputs": [],
   "source": [
    "base_seed = substep_params['SEED']**2\n",
    "seed = init_random_seed(base_seed)\n",
    "set_random_seed(seed, deterministic=False)"
   ]
  },
  {
   "cell_type": "code",
   "execution_count": null,
   "id": "aacb295d-a5eb-4a20-b5e0-c8592344b2d9",
   "metadata": {
    "tags": []
   },
   "outputs": [],
   "source": [
    "EPOCH_COUNT = substep_params['EPOCH_COUNT']\n",
    "BATCH       = substep_params['BATCH']\n",
    "WORKERS     = substep_params['WORKERS']\n",
    "\n",
    "MODEL_NAME   = substep_params['MODEL_NAME']\n",
    "optimizer_lr = substep_params['optimizer_lr']\n",
    "\n",
    "CHECKPOINT_INTERVAL = 10\n",
    "############################################\n",
    "PROJECT_FOLDER = tmp_inputs.cache_data\n",
    "MAX_SIZE       = substep_params['MAX_SIZE']\n",
    "CLASSES        = CONFIG['CLASSES']\n",
    "CLASSES_COUNT  = len(CLASSES)"
   ]
  },
  {
   "cell_type": "code",
   "execution_count": null,
   "id": "8f620dbf-702b-4718-8f83-f6ccdb03b18d",
   "metadata": {
    "tags": []
   },
   "outputs": [],
   "source": [
    "cfg_dir = osp.join(osp.dirname(mmdet.__file__), '.mim', 'configs')\n",
    "\n",
    "cfg_path = \"yolox/yolox_s_8x8_300e_coco.py\"\n",
    "\n",
    "cfg = Config.fromfile(osp.join(cfg_dir, cfg_path))"
   ]
  },
  {
   "cell_type": "code",
   "execution_count": null,
   "id": "b30e99c6-a6af-43d3-a09f-91292c9ac4e7",
   "metadata": {
    "scrolled": true,
    "tags": []
   },
   "outputs": [],
   "source": [
    "print(cfg.pretty_text)"
   ]
  },
  {
   "cell_type": "code",
   "execution_count": null,
   "id": "a077fb48-7b32-4f66-93fa-2b41cdec940c",
   "metadata": {
    "tags": []
   },
   "outputs": [],
   "source": [
    "cfg.evaluation = {'metric': ['bbox'], 'save_best' : 'bbox_mAP'}\n",
    "# cfg.evaluation = {'metric': ['segm'], 'save_best' : 'segm_mAP'}\n",
    "cfg.work_dir = os.path.join(PROJECT_FOLDER, MODEL_NAME)\n",
    "cfg.img_size = MAX_SIZE\n",
    "cfg.model.bbox_head.num_classes = CLASSES_COUNT\n",
    "cfg.model.test_cfg.nms.iou_threshold=0.5\n",
    "cfg.img_scale"
   ]
  },
  {
   "cell_type": "code",
   "execution_count": null,
   "id": "fb27c4fa-b1be-494a-aee0-6da5cd5a0076",
   "metadata": {
    "tags": []
   },
   "outputs": [],
   "source": [
    "#### Set pretain_weights\n",
    "cfg.load_from = pretrain_weights_path"
   ]
  },
  {
   "cell_type": "code",
   "execution_count": null,
   "id": "cd62d9c4-728a-46a6-9a53-be26c8857b21",
   "metadata": {
    "tags": []
   },
   "outputs": [],
   "source": [
    "workflow = [('train', 1), ('val', 1)]\n",
    "cfg.workflow = workflow\n",
    "\n",
    "img_norm_cfg = dict(\n",
    "    mean=[123.675, 116.28, 103.53], std=[58.395, 57.12, 57.375], to_rgb=True)\n",
    "cfg.img_norm_cfg = img_norm_cfg\n",
    "cfg.data_root = ''"
   ]
  },
  {
   "cell_type": "code",
   "execution_count": null,
   "id": "e72efad1-9d68-4eae-b550-4abf1489d4ea",
   "metadata": {
    "tags": []
   },
   "outputs": [],
   "source": [
    "from mmdet.datasets import PIPELINES\n",
    "\n",
    "try:\n",
    "    @PIPELINES.register_module()\n",
    "    class DataAsList:\n",
    "        def __call__(self, results):\n",
    "            aug_data_dict = {key: [val] for key, val in results.items()}\n",
    "            return aug_data_dict\n",
    "except Exception as e:\n",
    "    print(e)"
   ]
  },
  {
   "cell_type": "code",
   "execution_count": null,
   "id": "4da9362f-b402-4e42-b8d0-ef88f3a3f6d5",
   "metadata": {
    "tags": []
   },
   "outputs": [],
   "source": [
    "cfg.img_scale = (MAX_SIZE, MAX_SIZE)\n",
    "dataset_type = 'CocoDataset'\n",
    "\n",
    "cfg.train_pipeline = [\n",
    "    {'type': 'LoadImageFromFile'},\n",
    "    {'type': 'LoadAnnotations', 'with_bbox': True},\n",
    "    {'type': 'Resize', 'img_scale' : (MAX_SIZE, MAX_SIZE), 'keep_ratio': False},\n",
    "    {'type': 'FilterAnnotations', 'min_gt_bbox_wh': (4.0, 4.0)},\n",
    "    {'type': 'RandomFlip', 'flip_ratio': 0.5},\n",
    "    {'type': 'Pad', 'size_divisor':32},\n",
    "    {'type': 'Normalize', **cfg.img_norm_cfg},\n",
    "    {'type': 'DefaultFormatBundle'},\n",
    "    {'type': 'Collect', 'keys': ['img', 'gt_bboxes', 'gt_labels']}\n",
    "]\n",
    "\n",
    "cfg.test_pipeline = [\n",
    "    {'type': 'LoadImageFromFile'},\n",
    "    {'type': 'Resize', 'img_scale' : (MAX_SIZE, MAX_SIZE), 'keep_ratio': False},\n",
    "    {'type': 'RandomFlip', 'flip_ratio': 0.0},\n",
    "    {'type': 'Pad', 'size_divisor':32},   \n",
    "    {'type': 'Normalize', **cfg.img_norm_cfg},\n",
    "    {'type': 'DefaultFormatBundle'},\n",
    "    {'type': 'Collect', 'keys': ['img']},\n",
    "    {'type': 'DataAsList'}\n",
    "]\n",
    "\n",
    "cfg.train_dataset = dict(\n",
    "        type='CocoDataset',\n",
    "        filter_empty_gt=False, # for empty transporter (wht obj)\n",
    "        img_prefix=tmp_inputs.aug_dataset,\n",
    "        ann_file=osp.join(tmp_inputs.cache_config, CONFIG[\"train_coco_annotation\"]), \n",
    "        pipeline=cfg.train_pipeline,\n",
    "        classes=CLASSES,\n",
    ")\n",
    "\n",
    "cfg.test_dataset = dict(\n",
    "        type='CocoDataset',\n",
    "        filter_empty_gt=False,\n",
    "        img_prefix=tmp_inputs.aug_dataset,\n",
    "        ann_file=osp.join(tmp_inputs.cache_config, CONFIG[\"val_coco_annotation\"]), \n",
    "        pipeline=cfg.test_pipeline,\n",
    "        classes=CLASSES,\n",
    ")\n",
    "\n",
    "\n",
    "data = dict(\n",
    "    samples_per_gpu=BATCH,\n",
    "    workers_per_gpu=WORKERS,\n",
    "    train=cfg.train_dataset, \n",
    "    val=cfg.test_dataset, \n",
    "    test=cfg.test_dataset\n",
    ")\n",
    "\n",
    "cfg['data'] = ConfigDict(data)"
   ]
  },
  {
   "cell_type": "code",
   "execution_count": null,
   "id": "6117c581-8ff5-457b-86df-5b402e8e9f7a",
   "metadata": {
    "tags": []
   },
   "outputs": [],
   "source": [
    "%%time\n",
    "\n",
    "import io\n",
    "import re\n",
    "\n",
    "none_parse = lambda x : ''\n",
    "print('loading_dataset....')\n",
    "with io.open(cfg.data.train['ann_file']) as fd:\n",
    "    train_dataset = fd.read()\n",
    "\n",
    "train_dataset = re.findall('file_name', train_dataset)\n",
    "\n",
    "print(f\"{len(train_dataset)=}\")"
   ]
  },
  {
   "cell_type": "code",
   "execution_count": null,
   "id": "ff4f9f3d-94a3-4cb4-a6b5-66a51e4b246e",
   "metadata": {
    "tags": []
   },
   "outputs": [],
   "source": [
    "ITERS_IN_ONE_EPOCH = int(len(train_dataset) / BATCH)\n",
    "MAX_ITER = (ITERS_IN_ONE_EPOCH * EPOCH_COUNT) - 1\n",
    "print(f\"{ITERS_IN_ONE_EPOCH=}\")\n",
    "print(f\"{MAX_ITER=}\")"
   ]
  },
  {
   "cell_type": "code",
   "execution_count": null,
   "id": "d6a34320-ed8c-4067-abb5-753b440a0805",
   "metadata": {
    "tags": []
   },
   "outputs": [],
   "source": [
    "print(f\"{optimizer_lr=}\")\n",
    "\n",
    "cfg.num_last_epochs = 15\n",
    "\n",
    "\n",
    "cfg.optimizer = dict(type='Adam', lr=optimizer_lr)\n",
    "   \n",
    "cfg.optimizer_config = {} #dict(grad_clip=None)\n",
    "\n",
    "cfg.lr_config = dict(\n",
    "    # _delete_=True,\n",
    "    policy= 'CosineAnnealing', #'YOLOX',\n",
    "    warmup='linear',\n",
    "    warmup_ratio=0.001,\n",
    "    warmup_iters=int(MAX_ITER * 0.25), # 5 epoch\n",
    "    min_lr_ratio=1e-5)\n",
    "\n",
    "cfg.runner = dict(type='EpochBasedRunner', max_epochs=EPOCH_COUNT)\n",
    "\n",
    "checkpoint_config = dict(interval=CHECKPOINT_INTERVAL)\n",
    "if CHECKPOINT_INTERVAL == -1:\n",
    "    checkpoint_config = None\n",
    "    \n",
    "\n",
    "\n",
    "log_config = dict(\n",
    "    interval=(BATCH*2) if (BATCH*2) < (ITERS_IN_ONE_EPOCH / 2) else (ITERS_IN_ONE_EPOCH // 2),\n",
    "    hooks=[\n",
    "        dict(type='TextLoggerHook', ignore_last=False)\n",
    "    ]\n",
    ")\n",
    "\n",
    "\n",
    "cfg.merge_from_dict({\n",
    "    \"os\" : None,\n",
    "    \"ITERS_IN_ONE_EPOCH\" : ITERS_IN_ONE_EPOCH,\n",
    "    \"MAX_ITER\" : MAX_ITER,\n",
    "    \"EPOCH_COUNT\" : EPOCH_COUNT,\n",
    "    \"data\" : data,\n",
    "    \"checkpoint_config\" : checkpoint_config,\n",
    "    \"log_level\" : logging.getLevelName(logging.root.level),    \n",
    "    \"log_config\" : log_config,\n",
    "    \"resume_from\": None,\n",
    "})"
   ]
  },
  {
   "cell_type": "code",
   "execution_count": null,
   "id": "b356f552-402a-4916-9359-f0a4863ae0bd",
   "metadata": {
    "tags": []
   },
   "outputs": [],
   "source": [
    "os.makedirs(cfg.work_dir, exist_ok=True)"
   ]
  },
  {
   "cell_type": "code",
   "execution_count": null,
   "id": "50fdaf9c-a7e3-43ac-8a1e-423566eba697",
   "metadata": {
    "tags": []
   },
   "outputs": [],
   "source": [
    "cfg.auto_resume = True # resume from the latest checkpoint automatically\n",
    "\n",
    "if cfg.load_from is not None:\n",
    "    cfg.auto_resume = False\n",
    "\n",
    "cfg.gpu_ids = [torch.cuda.current_device()]\n",
    "cfg.device='cuda'"
   ]
  },
  {
   "cell_type": "code",
   "execution_count": null,
   "id": "56532ad2-fbbe-4fbb-924f-8a42b1426b63",
   "metadata": {
    "scrolled": true,
    "tags": []
   },
   "outputs": [],
   "source": [
    "print(f'Config:\\n{cfg.pretty_text}')"
   ]
  },
  {
   "cell_type": "code",
   "execution_count": null,
   "id": "366d722a-e426-4056-88e6-f5174752658e",
   "metadata": {
    "tags": []
   },
   "outputs": [],
   "source": [
    "# dump config\n",
    "config_file = osp.join(cfg.work_dir, \"last_cfg.py\")\n",
    "cfg.dump(file=config_file)"
   ]
  },
  {
   "cell_type": "code",
   "execution_count": null,
   "id": "2ddc0212-f97d-4f87-85ba-5e7d5ae499fd",
   "metadata": {
    "tags": []
   },
   "outputs": [],
   "source": [
    "CONFIG['config_file'] = config_file\n",
    "CONFIG['work_dir']    = cfg.work_dir\n",
    "\n",
    "with open(config_fn, 'w') as f_id:\n",
    "    json.dump(CONFIG, f_id, indent=4)"
   ]
  },
  {
   "cell_type": "code",
   "execution_count": null,
   "id": "5c229d77-2795-4f3c-b93b-e0439a040610",
   "metadata": {
    "tags": []
   },
   "outputs": [],
   "source": [
    "!ls {cfg.work_dir}"
   ]
  },
  {
   "cell_type": "code",
   "execution_count": null,
   "id": "2e5c327a-495d-4297-83fd-91923cf4f01b",
   "metadata": {
    "tags": []
   },
   "outputs": [],
   "source": [
    "#stop spark\n",
    "SinaraSpark.stop_session()"
   ]
  },
  {
   "cell_type": "code",
   "execution_count": null,
   "id": "c82a0e86-ce0c-4401-9f7d-4e316238a862",
   "metadata": {},
   "outputs": [],
   "source": []
  }
 ],
 "metadata": {
  "kernelspec": {
   "display_name": "cv",
   "language": "python",
   "name": "cv"
  },
  "language_info": {
   "codemirror_mode": {
    "name": "ipython",
    "version": 3
   },
   "file_extension": ".py",
   "mimetype": "text/x-python",
   "name": "python",
   "nbconvert_exporter": "python",
   "pygments_lexer": "ipython3",
   "version": "3.9.10"
  }
 },
 "nbformat": 4,
 "nbformat_minor": 5
}
