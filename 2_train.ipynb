{
 "cells": [
  {
   "cell_type": "code",
   "execution_count": null,
   "id": "c4ff3a0d-0c43-4065-9415-d6984a1b7e52",
   "metadata": {
    "tags": []
   },
   "outputs": [],
   "source": [
    "%load_ext autoreload\n",
    "%autoreload 2"
   ]
  },
  {
   "cell_type": "code",
   "execution_count": null,
   "id": "5801a34e-c02b-4eb2-abd3-2ca860d3cc3b",
   "metadata": {
    "tags": [
     "parameters"
    ]
   },
   "outputs": [],
   "source": [
    "#2. specify parameters\n",
    "pipeline_params={\n",
    "}\n",
    "step_params={\n",
    "}\n",
    "substep_params={\n",
    "    \"SEED\"         : 42, \n",
    "}"
   ]
  },
  {
   "cell_type": "code",
   "execution_count": null,
   "id": "9452dc47-ec58-4ba9-b2e2-a3f6aae3100e",
   "metadata": {
    "tags": []
   },
   "outputs": [],
   "source": [
    "#3 define substep interface\n",
    "from sinara.substep import NotebookSubstep, default_param_values, ENV_NAME, PIPELINE_NAME, ZONE_NAME, STEP_NAME, RUN_ID, ENTITY_NAME, ENTITY_PATH, SUBSTEP_NAME\n",
    "\n",
    "substep = NotebookSubstep(pipeline_params, step_params, substep_params, **default_param_values(\"params/step_params.json\"))\n",
    "\n",
    "substep.interface(\n",
    "    inputs =\n",
    "    [ { STEP_NAME: \"2_model_train\", ENTITY_NAME: \"aug_dataset\",  RUN_ID: \"run-23-10-12-231808\"},\n",
    "      { STEP_NAME: \"2_model_train\", ENTITY_NAME: \"config\",  RUN_ID: \"run-23-10-12-231808\"},\n",
    "      { STEP_NAME: \"2_model_train\", ENTITY_NAME: \"cache_data\",  RUN_ID: \"run-23-10-12-231808\"}\n",
    "    ],\n",
    "    \n",
    "    outputs = \n",
    "    [\n",
    "        { ENTITY_NAME: \"model\"}\n",
    "    ]\n",
    "    \n",
    ")\n",
    "\n",
    "substep.print_interface_info()\n",
    "\n",
    "substep.exit_in_visualize_mode()"
   ]
  },
  {
   "cell_type": "code",
   "execution_count": null,
   "id": "89523725-3b8b-4a53-b766-35f8616cd9bb",
   "metadata": {
    "tags": []
   },
   "outputs": [],
   "source": [
    "#4 get substep.interface\n",
    "inputs = substep.inputs(step_name = \"2_model_train\", run_id=\"run-23-10-12-231808\")\n",
    "outputs = substep.outputs()\n",
    "\n",
    "print(f\"{inputs.aug_dataset=}\")\n",
    "print(f\"{inputs.config=}\")\n",
    "print(f\"{inputs.cache_data=}\")\n",
    "\n",
    "print(f\"{outputs.model=}\")\n"
   ]
  },
  {
   "cell_type": "code",
   "execution_count": null,
   "id": "54ec490a-1491-4203-a79d-2abd08df4d13",
   "metadata": {
    "tags": []
   },
   "outputs": [],
   "source": [
    "import logging\n",
    "logging.root.setLevel(substep_params.get('loggingLevel', 'INFO'))\n",
    "logging.debug('Запись.')"
   ]
  },
  {
   "cell_type": "code",
   "execution_count": null,
   "id": "85684a72-5d51-4015-b49f-d73211266ebf",
   "metadata": {
    "tags": []
   },
   "outputs": [],
   "source": [
    "#5 run spark\n",
    "from sinara.spark import SinaraSpark\n",
    "\n",
    "spark = SinaraSpark.run_session(0)\n",
    "SinaraSpark.ui_url()"
   ]
  },
  {
   "cell_type": "code",
   "execution_count": null,
   "id": "a462adfc-91a9-4e77-a3d4-17b61a97d131",
   "metadata": {
    "tags": []
   },
   "outputs": [],
   "source": [
    "import os.path as osp\n",
    "import os"
   ]
  },
  {
   "cell_type": "markdown",
   "id": "de2bac9a-fa90-4f3d-9789-66da9eddcf7d",
   "metadata": {},
   "source": [
    "### Обучение модели"
   ]
  },
  {
   "cell_type": "markdown",
   "id": "57bed10f-9967-4d1d-9e36-6be7c9c7df3c",
   "metadata": {},
   "source": [
    "#### Инициализация модулей из mmdetection, mmcv  "
   ]
  },
  {
   "cell_type": "code",
   "execution_count": null,
   "id": "6d0b52e9-2386-48e6-9b76-5bf8869465e5",
   "metadata": {
    "tags": []
   },
   "outputs": [],
   "source": [
    "import torch, torchvision\n",
    "\n",
    "print(f\"{torch.__version__=}\")\n",
    "print(f\"{torch.cuda.is_available()=}\")\n",
    "print(f\"{torchvision.__version__=}\")\n",
    "\n",
    "if torch.cuda.is_available():\n",
    "    device_id = torch.cuda.current_device()\n",
    "    device_name = torch.cuda.get_device_name(device_id)\n",
    "    print(f\"{device_name=}\")\n",
    "    print(f\"{torch.cuda.device_count()=}\")"
   ]
  },
  {
   "cell_type": "code",
   "execution_count": null,
   "id": "cccf7cb9-b218-421e-b976-636b0b7fd70a",
   "metadata": {
    "tags": []
   },
   "outputs": [],
   "source": [
    "from mmdet.datasets import PIPELINES\n",
    "\n",
    "try:\n",
    "    @PIPELINES.register_module()\n",
    "    class DataAsList:\n",
    "        def __call__(self, results):\n",
    "            aug_data_dict = {key: [val] for key, val in results.items()}\n",
    "            return aug_data_dict\n",
    "except Exception as e:\n",
    "    print(e)"
   ]
  },
  {
   "cell_type": "code",
   "execution_count": null,
   "id": "7c1b01da-95cf-4110-a9e8-589aadf88fdd",
   "metadata": {
    "tags": []
   },
   "outputs": [],
   "source": [
    "import copy\n",
    "import os\n",
    "import time\n",
    "import warnings\n",
    "import math\n",
    "\n",
    "import mmcv\n",
    "from mmcv import Config, ConfigDict\n",
    "\n",
    "import mmdet\n",
    "from mmdet.apis import init_random_seed, set_random_seed, train_detector\n",
    "from mmdet.datasets import build_dataset\n",
    "from mmdet.models import build_detector\n",
    "from mmdet.utils import get_root_logger\n",
    "\n",
    "print(f\"{mmcv.__version__=}\")\n",
    "print(f\"{mmdet.__version__=}\")"
   ]
  },
  {
   "cell_type": "code",
   "execution_count": null,
   "id": "de183f28-6c05-428b-812f-6248c83b1b54",
   "metadata": {
    "tags": []
   },
   "outputs": [],
   "source": [
    "import json\n",
    "config_fn = os.path.join(inputs.config, 'config.json')\n",
    "\n",
    "with open(config_fn) as f_id:\n",
    "    CONFIG = json.load(f_id)"
   ]
  },
  {
   "cell_type": "code",
   "execution_count": null,
   "id": "99c19917-db7e-47e7-94e6-94873508e09c",
   "metadata": {
    "tags": []
   },
   "outputs": [],
   "source": [
    "CONFIG"
   ]
  },
  {
   "cell_type": "code",
   "execution_count": null,
   "id": "375f2bdf-a321-40d2-92cc-3af0ae44a4ab",
   "metadata": {
    "tags": []
   },
   "outputs": [],
   "source": [
    "cfg = Config.fromfile(CONFIG['config_file'])"
   ]
  },
  {
   "cell_type": "code",
   "execution_count": null,
   "id": "51eacf2e-8191-458f-92d2-d13979d2b643",
   "metadata": {
    "tags": []
   },
   "outputs": [],
   "source": [
    "with open(osp.join(cfg.work_dir, 'config.json'), 'w') as f_id:\n",
    "    json.dump(CONFIG, f_id, indent=4)"
   ]
  },
  {
   "cell_type": "code",
   "execution_count": null,
   "id": "bc244c81-b370-49eb-a39c-921e39889bb9",
   "metadata": {
    "tags": []
   },
   "outputs": [],
   "source": [
    "# init the logger before other steps\n",
    "timestamp = time.strftime('%Y%m%d_%H%M%S', time.localtime())\n",
    "log_file = osp.join(cfg.work_dir, f'latest.log')\n",
    "logger = get_root_logger(log_file=log_file, log_level=cfg.log_level)"
   ]
  },
  {
   "cell_type": "code",
   "execution_count": null,
   "id": "76078417-c786-4642-87e7-99e23393a616",
   "metadata": {
    "tags": []
   },
   "outputs": [],
   "source": [
    "base_seed = substep_params['SEED']**2\n",
    "deterministic = False\n",
    "\n",
    "meta = dict()\n",
    "meta['config'] = cfg.pretty_text\n",
    "\n",
    "# set random seeds\n",
    "seed = init_random_seed(base_seed)\n",
    "# logger.info(f'Set random seed to {seed}, '\n",
    "#             f'deterministic: {deterministic}')\n",
    "set_random_seed(seed, deterministic=deterministic)\n",
    "cfg['seed'] = seed\n",
    "meta['seed'] = seed\n",
    "meta['exp_name'] = CONFIG['config_file']"
   ]
  },
  {
   "cell_type": "markdown",
   "id": "d59e75fc-d48b-4448-adbf-ff9025c04989",
   "metadata": {},
   "source": [
    "#### Инициализация модели на основе pretrain весов"
   ]
  },
  {
   "cell_type": "code",
   "execution_count": null,
   "id": "97dc5786-ec05-40f6-830e-70e6f49250a1",
   "metadata": {
    "tags": []
   },
   "outputs": [],
   "source": [
    "model = build_detector(cfg.model)\n",
    "\n",
    "model.init_weights()"
   ]
  },
  {
   "cell_type": "code",
   "execution_count": null,
   "id": "08642c01-575f-44f5-9bfb-1a05fc932938",
   "metadata": {
    "tags": []
   },
   "outputs": [],
   "source": [
    "datasets = [build_dataset(cfg.data.train)]\n",
    "\n",
    "if len(cfg.workflow) == 2:\n",
    "    val_dataset = copy.deepcopy(cfg.data.val)\n",
    "    val_dataset.pipeline = cfg.data.train.pipeline\n",
    "    datasets.append(build_dataset(val_dataset))\n",
    "    \n",
    "for i in range(len(datasets)):\n",
    "    try:\n",
    "        datasets[i].update_skip_type_keys\n",
    "    except AttributeError:\n",
    "        datasets[i].update_skip_type_keys = lambda x: x "
   ]
  },
  {
   "cell_type": "code",
   "execution_count": null,
   "id": "13dfe293-82e9-45f6-be96-3b4893438e2d",
   "metadata": {
    "tags": []
   },
   "outputs": [],
   "source": [
    "model.CLASSES = datasets[0].CLASSES\n",
    "datasets[0].CLASSES"
   ]
  },
  {
   "cell_type": "markdown",
   "id": "8ae00a2f-6230-4e50-8735-7e4b306b5e88",
   "metadata": {},
   "source": [
    "#### Запуск обучения "
   ]
  },
  {
   "cell_type": "code",
   "execution_count": null,
   "id": "ebd95162-04e9-4c90-a4c4-fdd96675bc8a",
   "metadata": {
    "tags": []
   },
   "outputs": [],
   "source": [
    " train_detector(\n",
    "    model,\n",
    "    datasets,\n",
    "    cfg,\n",
    "    validate=True,\n",
    "    timestamp=timestamp,\n",
    "    meta=meta)"
   ]
  },
  {
   "cell_type": "markdown",
   "id": "832beb9f-ef9f-4ec0-a21a-91903f33b496",
   "metadata": {
    "tags": []
   },
   "source": [
    "#### Копирование изображения из валидационного датасета"
   ]
  },
  {
   "cell_type": "code",
   "execution_count": null,
   "id": "3d790e92-db6a-4892-8156-d444236837d5",
   "metadata": {
    "tags": []
   },
   "outputs": [],
   "source": [
    "val_dataset.ann_file"
   ]
  },
  {
   "cell_type": "code",
   "execution_count": null,
   "id": "5f0a668b-3a50-421a-b466-4a788e35bc2e",
   "metadata": {
    "tags": []
   },
   "outputs": [],
   "source": [
    "val_dataset"
   ]
  },
  {
   "cell_type": "code",
   "execution_count": null,
   "id": "515856d5-2db0-46aa-b9df-32afddf69cff",
   "metadata": {
    "tags": []
   },
   "outputs": [],
   "source": [
    "# save one example image from eval_dataset\n",
    "from utils.coco import load as load_coco\n",
    "from pathlib import Path\n",
    "import shutil \n",
    "\n",
    "val_coco = load_coco(val_dataset.ann_file)\n",
    "assert val_coco\n",
    "select_file = osp.join(val_dataset.img_prefix, val_coco[\"images\"][0][\"file_name\"])\n",
    "assert osp.exists(select_file)\n",
    "\n",
    "shutil.copy(select_file, osp.join(CONFIG['work_dir'], f\"test{Path(select_file).suffix}\"))"
   ]
  },
  {
   "cell_type": "markdown",
   "id": "2b22b1a0-a520-4cfb-908f-c6661af31b31",
   "metadata": {},
   "source": [
    "### Копирование обученной модели \n",
    "(весов, конфига, тестового изображения) в hdfs для последующей передачи в другие компоненты"
   ]
  },
  {
   "cell_type": "markdown",
   "id": "2d5eb6e1-50cd-4b53-b875-84a2130df072",
   "metadata": {},
   "source": [
    "Так как в процессе обучения могут создаваться промежуточные веса нейросети (например для эпох 10, 20, 30 и т.д)    \n",
    "то не имеет особого смысла копировать все промежуточные файлы в другую компоненту.    \n",
    "Следовательно, скопируем веса и необходимые конфиги в отдельную директорию и эти файлы уже будем копировать на HDFS "
   ]
  },
  {
   "cell_type": "code",
   "execution_count": null,
   "id": "9e5f3add-8c21-4cbb-b860-77354d8f2690",
   "metadata": {
    "tags": []
   },
   "outputs": [],
   "source": [
    "!ls -lah {cfg.work_dir}"
   ]
  },
  {
   "cell_type": "code",
   "execution_count": null,
   "id": "469cd9f9-d0b1-4c7b-bb7b-05710b62ff17",
   "metadata": {
    "tags": []
   },
   "outputs": [],
   "source": [
    "# copy selected files to another dir\n",
    "import shutil \n",
    "import os.path as osp\n",
    "\n",
    "weights_dir = osp.join(cfg.work_dir, \"weights\")\n",
    "os.makedirs(weights_dir, exist_ok=True)\n",
    "\n",
    "model_path = cfg.work_dir\n",
    "files = [osp.join(model_path, file) for file in os.listdir(model_path)]\n",
    "models_pth  = [file for file in files if '.pth' in file if osp.isfile(file)]\n",
    "best_models = [file for file in models_pth if 'best' in file]\n",
    "latest_models = [file for file in models_pth if 'latest' in file]\n",
    "\n",
    "shutil.copy(osp.join(cfg.work_dir, \"config.json\"), osp.join(weights_dir, \"config.json\"))\n",
    "shutil.copy(osp.join(cfg.work_dir, f\"test{Path(select_file).suffix}\"), osp.join(weights_dir, f\"test{Path(select_file).suffix}\"))\n",
    "shutil.copy(cfg.filename, osp.join(weights_dir, osp.basename(cfg.filename)))\n",
    "\n",
    "for fpath in latest_models:\n",
    "    shutil.copy(fpath, fpath.replace(model_path, weights_dir))\n",
    "for fpath in best_models:\n",
    "    shutil.copy(fpath, fpath.replace(model_path, weights_dir))"
   ]
  },
  {
   "cell_type": "code",
   "execution_count": null,
   "id": "4dec47c1-b601-4539-961e-16bb5b0a67f9",
   "metadata": {
    "tags": []
   },
   "outputs": [],
   "source": [
    "!ls -lah {weights_dir}"
   ]
  },
  {
   "cell_type": "markdown",
   "id": "99cd8097-50bf-47d8-af04-24ed48aa5c7b",
   "metadata": {
    "tags": []
   },
   "source": [
    "#### delete information about use cache"
   ]
  },
  {
   "cell_type": "code",
   "execution_count": null,
   "id": "0f6e415c-c2f8-429e-aa38-d1d9d1e3d457",
   "metadata": {
    "tags": []
   },
   "outputs": [],
   "source": [
    "cfg = Config.fromfile(osp.join(weights_dir, \"last_cfg.py\"))\n",
    "cfg.load_from = \"\"\n",
    "cfg.train_dataset.ann_file = \"\"\n",
    "cfg.test_dataset.ann_file = \"\"\n",
    "cfg.data.train.ann_file = \"\"\n",
    "cfg.data.val.ann_file = \"\"\n",
    "cfg.data.test.ann_file = \"\"\n",
    "cfg.work_dir = \"\" \n",
    "config_file = osp.join(cfg.work_dir, \"last_cfg.py\")\n",
    "cfg.dump(file=osp.join(weights_dir, \"last_cfg.py\"))"
   ]
  },
  {
   "cell_type": "code",
   "execution_count": null,
   "id": "7a94e6b1-26ca-41ee-81b0-fa828af927b0",
   "metadata": {
    "tags": []
   },
   "outputs": [],
   "source": [
    "with open(osp.join(weights_dir, \"config.json\")) as f_id:\n",
    "    temp_CONFIG = json.load(f_id)\n",
    "temp_CONFIG.pop(\"eval_datasets\") if \"eval_datasets\" in temp_CONFIG else \"\"\n",
    "temp_CONFIG.pop(\"train_datasets\") if \"train_datasets\" in temp_CONFIG else \"\"\n",
    "temp_CONFIG.pop(\"train_output_file\") if \"train_output_file\" in temp_CONFIG else \"\"\n",
    "temp_CONFIG.pop(\"eval_output_file\") if \"eval_output_file\" in temp_CONFIG else \"\"\n",
    "temp_CONFIG.pop(\"work_dir\") if \"work_dir\" in temp_CONFIG else \"\"\n",
    "temp_CONFIG[\"config_file\"] = osp.basename(temp_CONFIG[\"config_file\"])\n",
    "\n",
    "with open(osp.join(weights_dir, \"config.json\"), 'w') as f_id:\n",
    "    json.dump(temp_CONFIG, f_id, indent=4)"
   ]
  },
  {
   "cell_type": "markdown",
   "id": "6aa64369-efb6-45fe-8c2d-689ffadaa97a",
   "metadata": {},
   "source": [
    "Copy files of model to output"
   ]
  },
  {
   "cell_type": "code",
   "execution_count": null,
   "id": "e638b42a-0212-4298-9476-469d880871b4",
   "metadata": {
    "tags": []
   },
   "outputs": [],
   "source": [
    "# !rm -r {outputs.model}"
   ]
  },
  {
   "cell_type": "code",
   "execution_count": null,
   "id": "2275ca57-1af4-461b-abb0-c6b5d2dcb145",
   "metadata": {
    "tags": []
   },
   "outputs": [],
   "source": [
    "shutil.copytree(weights_dir, outputs.model)"
   ]
  },
  {
   "cell_type": "code",
   "execution_count": null,
   "id": "e600f23f-25c7-442f-85bd-f331c2eecad7",
   "metadata": {
    "tags": []
   },
   "outputs": [],
   "source": [
    "#stop spark\n",
    "SinaraSpark.stop_session()"
   ]
  },
  {
   "cell_type": "code",
   "execution_count": null,
   "id": "d8def4f7-1696-4f77-ae41-9a9bd8bd599a",
   "metadata": {},
   "outputs": [],
   "source": []
  }
 ],
 "metadata": {
  "kernelspec": {
   "display_name": "cv",
   "language": "python",
   "name": "cv"
  },
  "language_info": {
   "codemirror_mode": {
    "name": "ipython",
    "version": 3
   },
   "file_extension": ".py",
   "mimetype": "text/x-python",
   "name": "python",
   "nbconvert_exporter": "python",
   "pygments_lexer": "ipython3",
   "version": "3.9.10"
  }
 },
 "nbformat": 4,
 "nbformat_minor": 5
}
