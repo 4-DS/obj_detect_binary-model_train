{
 "cells": [
  {
   "cell_type": "code",
   "execution_count": null,
   "id": "ad04d1be-6d0f-4b00-b851-d04a47c143f3",
   "metadata": {
    "tags": []
   },
   "outputs": [],
   "source": [
    "%load_ext autoreload\n",
    "%autoreload 2"
   ]
  },
  {
   "cell_type": "code",
   "execution_count": null,
   "id": "4ca387ca-7474-4757-b60c-21d1df8553ac",
   "metadata": {
    "tags": [
     "parameters"
    ]
   },
   "outputs": [],
   "source": [
    "#2. specify parameters\n",
    "pipeline_params={\n",
    "}\n",
    "step_params={\n",
    "}\n",
    "substep_params={   \n",
    "}"
   ]
  },
  {
   "cell_type": "code",
   "execution_count": null,
   "id": "4e69a785-9630-413e-adfd-a106acfa878c",
   "metadata": {
    "tags": []
   },
   "outputs": [],
   "source": [
    "#3 define substep interface\n",
    "from sinara.substep import NotebookSubstep, default_param_values, ENV_NAME, PIPELINE_NAME, ZONE_NAME, STEP_NAME, RUN_ID, ENTITY_NAME, ENTITY_PATH, SUBSTEP_NAME\n",
    "\n",
    "substep = NotebookSubstep(pipeline_params, step_params, substep_params, **default_param_values(\"params/step_params.json\"))\n",
    "\n",
    "substep.interface(\n",
    "    inputs =\n",
    "    [ \n",
    "      { STEP_NAME: \"data_prep\", ENTITY_NAME: \"train_data\"},\n",
    "      { STEP_NAME: \"data_prep\", ENTITY_NAME: \"eval_data\"},\n",
    "      # TODO: \n",
    "      { STEP_NAME: \"data_prep\", ENTITY_NAME: \"train_eval_config\"}\n",
    "    ],\n",
    "    \n",
    "    tmp_outputs =\n",
    "    [\n",
    "        { ENTITY_NAME: \"train_eval_data\" },\n",
    "        { ENTITY_NAME: \"train_eval_config\" }\n",
    "    ]\n",
    ")\n",
    "\n",
    "substep.print_interface_info()\n",
    "\n",
    "substep.exit_in_visualize_mode()"
   ]
  },
  {
   "cell_type": "markdown",
   "id": "5b3a900a-22d5-4787-ab3d-62bbd9bcee0f",
   "metadata": {
    "tags": []
   },
   "source": [
    "![interface 0_cache_datasets](./imgs/0_cache_datasets.drawio.png)"
   ]
  },
  {
   "cell_type": "code",
   "execution_count": null,
   "id": "9c63bfdf-7df3-4e53-85c4-bf62259373b8",
   "metadata": {
    "tags": []
   },
   "outputs": [],
   "source": [
    "#5 run spark\n",
    "from sinara.spark import SinaraSpark\n",
    "\n",
    "spark = SinaraSpark.run_session(0)\n",
    "SinaraSpark.ui_url()"
   ]
  },
  {
   "cell_type": "markdown",
   "id": "600d84de-13b1-46da-b666-6085adc386fc",
   "metadata": {},
   "source": [
    "### Loading train and val datasets and configuration files (from the previous component data_prep)"
   ]
  },
  {
   "cell_type": "code",
   "execution_count": null,
   "id": "4f7b1bb6-a860-4a34-8cc2-1c894f1cab5a",
   "metadata": {
    "tags": []
   },
   "outputs": [],
   "source": [
    "from sinara.store import SinaraStore\n",
    "\n",
    "inputs = substep.inputs(step_name = \"data_prep\")\n",
    "outputs = substep.outputs()\n",
    "tmp_outputs = substep.tmp_outputs()\n",
    "\n",
    "# LOAD Train Images\n",
    "SinaraStore.copy_store_files_to_tmp(store_dir=inputs.train_data, tmp_dir=tmp_outputs.train_eval_data)\n",
    "# LOAD Valid Images\n",
    "SinaraStore.copy_store_files_to_tmp(store_dir=inputs.eval_data, tmp_dir=tmp_outputs.train_eval_data)\n",
    "# copy config from previos step to outputs\n",
    "SinaraStore.copy_store_files_to_tmp(store_dir=inputs.train_eval_config, tmp_dir=tmp_outputs.train_eval_config)"
   ]
  },
  {
   "cell_type": "code",
   "execution_count": null,
   "id": "67860126-bb3c-4737-9142-f67877045ec7",
   "metadata": {
    "tags": []
   },
   "outputs": [],
   "source": [
    "#9 stop spark\n",
    "SinaraSpark.stop_session()"
   ]
  },
  {
   "cell_type": "code",
   "execution_count": null,
   "id": "e6686dea-fa34-4ca7-902d-577f002cc276",
   "metadata": {},
   "outputs": [],
   "source": []
  },
  {
   "cell_type": "code",
   "execution_count": null,
   "id": "c2573672-c8b7-4033-8143-fdbc8ddbf492",
   "metadata": {},
   "outputs": [],
   "source": []
  }
 ],
 "metadata": {
  "kernelspec": {
   "display_name": "cv",
   "language": "python",
   "name": "cv"
  },
  "language_info": {
   "codemirror_mode": {
    "name": "ipython",
    "version": 3
   },
   "file_extension": ".py",
   "mimetype": "text/x-python",
   "name": "python",
   "nbconvert_exporter": "python",
   "pygments_lexer": "ipython3",
   "version": "3.9.10"
  }
 },
 "nbformat": 4,
 "nbformat_minor": 5
}
