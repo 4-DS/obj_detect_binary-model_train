{
 "cells": [
  {
   "cell_type": "code",
   "execution_count": 1,
   "id": "ad04d1be-6d0f-4b00-b851-d04a47c143f3",
   "metadata": {
    "execution": {
     "iopub.execute_input": "2023-10-26T21:52:22.500508Z",
     "iopub.status.busy": "2023-10-26T21:52:22.499494Z",
     "iopub.status.idle": "2023-10-26T21:52:22.530721Z",
     "shell.execute_reply": "2023-10-26T21:52:22.530256Z"
    },
    "papermill": {
     "duration": 0.043021,
     "end_time": "2023-10-26T21:52:22.531855",
     "exception": false,
     "start_time": "2023-10-26T21:52:22.488834",
     "status": "completed"
    },
    "tags": []
   },
   "outputs": [],
   "source": [
    "%load_ext autoreload\n",
    "%autoreload 2"
   ]
  },
  {
   "cell_type": "code",
   "execution_count": null,
   "id": "4ca387ca-7474-4757-b60c-21d1df8553ac",
   "metadata": {
    "papermill": {
     "duration": 0.002993,
     "end_time": "2023-10-26T21:52:22.538304",
     "exception": false,
     "start_time": "2023-10-26T21:52:22.535311",
     "status": "completed"
    },
    "tags": [
     "parameters"
    ]
   },
   "outputs": [],
   "source": []
  },
  {
   "cell_type": "code",
   "execution_count": 2,
   "id": "62c0282c",
   "metadata": {
    "execution": {
     "iopub.execute_input": "2023-10-26T21:52:22.544902Z",
     "iopub.status.busy": "2023-10-26T21:52:22.544735Z",
     "iopub.status.idle": "2023-10-26T21:52:22.552551Z",
     "shell.execute_reply": "2023-10-26T21:52:22.552232Z"
    },
    "papermill": {
     "duration": 0.012291,
     "end_time": "2023-10-26T21:52:22.553451",
     "exception": false,
     "start_time": "2023-10-26T21:52:22.541160",
     "status": "completed"
    },
    "tags": [
     "injected-parameters"
    ]
   },
   "outputs": [],
   "source": [
    "# Parameters\n",
    "params = {\n",
    "    \"pipeline_params\": {\n",
    "        \"env_name\": \"user\",\n",
    "        \"pipeline_name\": \"yolox_mmdet\",\n",
    "        \"zone_name\": \"test\",\n",
    "    },\n",
    "    \"step_params\": {\"step_name\": \"model_train\"},\n",
    "    \"substeps_params\": [\n",
    "        {\"substep_name\": \"0_cache_datasets.ipynb\", \"substep_params\": {}},\n",
    "        {\n",
    "            \"substep_name\": \"1_configure_train.ipynb\",\n",
    "            \"substep_params\": {\n",
    "                \"MAX_SIZE\": 640,\n",
    "                \"BATCH\": 8,\n",
    "                \"WORKERS\": 0,\n",
    "                \"SEED\": 42,\n",
    "                \"EPOCH_COUNT\": 5,\n",
    "                \"MODEL_NAME\": \"yolox_s\",\n",
    "                \"optimizer_lr\": 0.001,\n",
    "                \"pretrain_weights\": \"https://download.openmmlab.com/mmdetection/v2.0/yolox/yolox_s_8x8_300e_coco/yolox_s_8x8_300e_coco_20211121_095711-4592a793.pth\",\n",
    "            },\n",
    "        },\n",
    "        {\"substep_name\": \"2_train.ipynb\", \"substep_params\": {\"SEED\": 42}},\n",
    "    ],\n",
    "}\n",
    "pipeline_params = {\n",
    "    \"env_name\": \"user\",\n",
    "    \"pipeline_name\": \"yolox_mmdet\",\n",
    "    \"zone_name\": \"test\",\n",
    "}\n",
    "step_params = {\"step_name\": \"model_train\"}\n",
    "substep_params = {}\n"
   ]
  },
  {
   "cell_type": "code",
   "execution_count": 3,
   "id": "4e69a785-9630-413e-adfd-a106acfa878c",
   "metadata": {
    "execution": {
     "iopub.execute_input": "2023-10-26T21:52:22.560283Z",
     "iopub.status.busy": "2023-10-26T21:52:22.560128Z",
     "iopub.status.idle": "2023-10-26T21:52:22.578379Z",
     "shell.execute_reply": "2023-10-26T21:52:22.578023Z"
    },
    "papermill": {
     "duration": 0.022745,
     "end_time": "2023-10-26T21:52:22.579365",
     "exception": false,
     "start_time": "2023-10-26T21:52:22.556620",
     "status": "completed"
    },
    "tags": []
   },
   "outputs": [
    {
     "data": {
      "text/markdown": [
       "**INPUTS:**\n"
      ],
      "text/plain": [
       "<IPython.core.display.Markdown object>"
      ]
     },
     "metadata": {},
     "output_type": "display_data"
    },
    {
     "name": "stdout",
     "output_type": "stream",
     "text": [
      "[{'user.yolox_mmdet.test.data_prep.train_data': '/data/home/jovyan/yolox_mmdet/test/data_prep/run-23-10-26-211120/train_data'},\n",
      " {'user.yolox_mmdet.test.data_prep.eval_data': '/data/home/jovyan/yolox_mmdet/test/data_prep/run-23-10-26-211120/eval_data'},\n",
      " {'user.yolox_mmdet.test.data_prep.train_eval_config': '/data/home/jovyan/yolox_mmdet/test/data_prep/run-23-10-26-211120/train_eval_config'}]\n",
      "\n",
      "\n"
     ]
    },
    {
     "data": {
      "text/markdown": [
       "**TMP OUTPUTS:**\n"
      ],
      "text/plain": [
       "<IPython.core.display.Markdown object>"
      ]
     },
     "metadata": {},
     "output_type": "display_data"
    },
    {
     "name": "stdout",
     "output_type": "stream",
     "text": [
      "[{'tmp:user.yolox_mmdet.test.model_train.load_train_data': '/data/tmp/user/yolox_mmdet/test/model_train/run-23-10-26-215221/load_train_data'},\n",
      " {'tmp:user.yolox_mmdet.test.model_train.load_eval_data': '/data/tmp/user/yolox_mmdet/test/model_train/run-23-10-26-215221/load_eval_data'},\n",
      " {'tmp:user.yolox_mmdet.test.model_train.aug_dataset': '/data/tmp/user/yolox_mmdet/test/model_train/run-23-10-26-215221/aug_dataset'},\n",
      " {'tmp:user.yolox_mmdet.test.model_train.train_eval_config': '/data/tmp/user/yolox_mmdet/test/model_train/run-23-10-26-215221/train_eval_config'}]\n",
      "\n",
      "\n"
     ]
    }
   ],
   "source": [
    "#3 define substep interface\n",
    "from sinara.substep import NotebookSubstep, default_param_values, ENV_NAME, PIPELINE_NAME, ZONE_NAME, STEP_NAME, RUN_ID, ENTITY_NAME, ENTITY_PATH, SUBSTEP_NAME\n",
    "\n",
    "substep = NotebookSubstep(pipeline_params, step_params, substep_params, **default_param_values(\"params/step_params.json\"))\n",
    "\n",
    "substep.interface(\n",
    "    inputs =\n",
    "    [ \n",
    "      { STEP_NAME: \"data_prep\", ENTITY_NAME: \"train_data\"},\n",
    "      { STEP_NAME: \"data_prep\", ENTITY_NAME: \"eval_data\"},\n",
    "      { STEP_NAME: \"data_prep\", ENTITY_NAME: \"train_eval_config\"}\n",
    "    ],\n",
    "    \n",
    "    tmp_outputs =\n",
    "    [\n",
    "        { ENTITY_NAME: \"load_train_data\" },\n",
    "        { ENTITY_NAME: \"load_eval_data\" },\n",
    "        { ENTITY_NAME: \"aug_dataset\" },\n",
    "        { ENTITY_NAME: \"train_eval_config\" }\n",
    "    ]\n",
    ")\n",
    "\n",
    "substep.print_interface_info()\n",
    "\n",
    "substep.exit_in_visualize_mode()"
   ]
  },
  {
   "cell_type": "markdown",
   "id": "5b3a900a-22d5-4787-ab3d-62bbd9bcee0f",
   "metadata": {
    "papermill": {
     "duration": 0.003259,
     "end_time": "2023-10-26T21:52:22.586187",
     "exception": false,
     "start_time": "2023-10-26T21:52:22.582928",
     "status": "completed"
    },
    "tags": []
   },
   "source": [
    "![interface 0_cache_datasets](./imgs/0_cache_datasets.drawio.png)"
   ]
  },
  {
   "cell_type": "code",
   "execution_count": 4,
   "id": "bf768ee9-6df2-4d68-b675-3154487d5277",
   "metadata": {
    "execution": {
     "iopub.execute_input": "2023-10-26T21:52:22.593496Z",
     "iopub.status.busy": "2023-10-26T21:52:22.593294Z",
     "iopub.status.idle": "2023-10-26T21:52:22.604347Z",
     "shell.execute_reply": "2023-10-26T21:52:22.604018Z"
    },
    "papermill": {
     "duration": 0.015824,
     "end_time": "2023-10-26T21:52:22.605227",
     "exception": false,
     "start_time": "2023-10-26T21:52:22.589403",
     "status": "completed"
    },
    "tags": []
   },
   "outputs": [
    {
     "name": "stdout",
     "output_type": "stream",
     "text": [
      "inputs.train_data='/data/home/jovyan/yolox_mmdet/test/data_prep/run-23-10-26-211120/train_data'\n",
      "inputs.eval_data='/data/home/jovyan/yolox_mmdet/test/data_prep/run-23-10-26-211120/eval_data'\n",
      "inputs.train_eval_config='/data/home/jovyan/yolox_mmdet/test/data_prep/run-23-10-26-211120/train_eval_config'\n",
      "tmp_outputs.load_train_data='/data/tmp/user/yolox_mmdet/test/model_train/run-23-10-26-215221/load_train_data'\n",
      "tmp_outputs.load_eval_data='/data/tmp/user/yolox_mmdet/test/model_train/run-23-10-26-215221/load_eval_data'\n",
      "tmp_outputs.aug_dataset='/data/tmp/user/yolox_mmdet/test/model_train/run-23-10-26-215221/aug_dataset'\n",
      "tmp_outputs.train_eval_config='/data/tmp/user/yolox_mmdet/test/model_train/run-23-10-26-215221/train_eval_config'\n"
     ]
    }
   ],
   "source": [
    "#4 get substep.interface\n",
    "inputs = substep.inputs(step_name = \"data_prep\")\n",
    "outputs = substep.outputs()\n",
    "tmp_outputs = substep.tmp_outputs()\n",
    "\n",
    "print(f\"{inputs.train_data=}\")\n",
    "print(f\"{inputs.eval_data=}\")\n",
    "print(f\"{inputs.train_eval_config=}\")\n",
    "\n",
    "print(f\"{tmp_outputs.load_train_data=}\")\n",
    "print(f\"{tmp_outputs.load_eval_data=}\")\n",
    "print(f\"{tmp_outputs.aug_dataset=}\")\n",
    "print(f\"{tmp_outputs.train_eval_config=}\")"
   ]
  },
  {
   "cell_type": "code",
   "execution_count": 5,
   "id": "9c63bfdf-7df3-4e53-85c4-bf62259373b8",
   "metadata": {
    "execution": {
     "iopub.execute_input": "2023-10-26T21:52:22.613109Z",
     "iopub.status.busy": "2023-10-26T21:52:22.612846Z",
     "iopub.status.idle": "2023-10-26T21:52:24.789523Z",
     "shell.execute_reply": "2023-10-26T21:52:24.788910Z"
    },
    "papermill": {
     "duration": 2.181986,
     "end_time": "2023-10-26T21:52:24.790800",
     "exception": false,
     "start_time": "2023-10-26T21:52:22.608814",
     "status": "completed"
    },
    "tags": []
   },
   "outputs": [
    {
     "name": "stdout",
     "output_type": "stream",
     "text": [
      "Session is run\n"
     ]
    },
    {
     "name": "stderr",
     "output_type": "stream",
     "text": [
      "Setting default log level to \"WARN\".\n",
      "To adjust logging level use sc.setLogLevel(newLevel). For SparkR, use setLogLevel(newLevel).\n",
      "23/10/26 21:52:24 WARN NativeCodeLoader: Unable to load native-hadoop library for your platform... using builtin-java classes where applicable\n"
     ]
    },
    {
     "data": {
      "text/plain": [
       "'http://localhost:4040'"
      ]
     },
     "execution_count": 5,
     "metadata": {},
     "output_type": "execute_result"
    }
   ],
   "source": [
    "#5 run spark\n",
    "from sinara.spark import SinaraSpark\n",
    "\n",
    "spark = SinaraSpark.run_session(0)\n",
    "SinaraSpark.ui_url()"
   ]
  },
  {
   "cell_type": "markdown",
   "id": "600d84de-13b1-46da-b666-6085adc386fc",
   "metadata": {
    "papermill": {
     "duration": 0.004027,
     "end_time": "2023-10-26T21:52:24.799185",
     "exception": false,
     "start_time": "2023-10-26T21:52:24.795158",
     "status": "completed"
    },
    "tags": []
   },
   "source": [
    "### Loading train and val datasets and configuration files (from the previous component data_prep)"
   ]
  },
  {
   "cell_type": "code",
   "execution_count": 6,
   "id": "4f7b1bb6-a860-4a34-8cc2-1c894f1cab5a",
   "metadata": {
    "execution": {
     "iopub.execute_input": "2023-10-26T21:52:24.808175Z",
     "iopub.status.busy": "2023-10-26T21:52:24.807908Z",
     "iopub.status.idle": "2023-10-26T21:52:45.032450Z",
     "shell.execute_reply": "2023-10-26T21:52:45.031958Z"
    },
    "papermill": {
     "duration": 20.230495,
     "end_time": "2023-10-26T21:52:45.033675",
     "exception": false,
     "start_time": "2023-10-26T21:52:24.803180",
     "status": "completed"
    },
    "tags": []
   },
   "outputs": [],
   "source": [
    "import os.path as osp\n",
    "import os\n",
    "from sinara.store import SinaraStore\n",
    "from pathlib import Path\n",
    "\n",
    "# copy config from previos step to outputs\n",
    "SinaraStore.copy_store_files_to_tmp(store_dir=inputs.train_data, tmp_dir=tmp_outputs.load_train_data)\n",
    "SinaraStore.copy_store_files_to_tmp(store_dir=inputs.eval_data, tmp_dir=tmp_outputs.load_eval_data)\n",
    "SinaraStore.copy_store_files_to_tmp(store_dir=inputs.train_eval_config, tmp_dir=tmp_outputs.train_eval_config)"
   ]
  },
  {
   "cell_type": "markdown",
   "id": "10159751-5492-4e5f-9fc4-e288c0595135",
   "metadata": {
    "papermill": {
     "duration": 0.003689,
     "end_time": "2023-10-26T21:52:45.041340",
     "exception": false,
     "start_time": "2023-10-26T21:52:45.037651",
     "status": "completed"
    },
    "tags": []
   },
   "source": [
    "#### Unpack parquet from load_train_data and load_eval_data by files to aug_dataset"
   ]
  },
  {
   "cell_type": "code",
   "execution_count": 7,
   "id": "27d1ae40-e546-46f0-9806-dc282b453f35",
   "metadata": {
    "execution": {
     "iopub.execute_input": "2023-10-26T21:52:45.049516Z",
     "iopub.status.busy": "2023-10-26T21:52:45.049294Z",
     "iopub.status.idle": "2023-10-26T21:52:45.057523Z",
     "shell.execute_reply": "2023-10-26T21:52:45.057059Z"
    },
    "papermill": {
     "duration": 0.013451,
     "end_time": "2023-10-26T21:52:45.058467",
     "exception": false,
     "start_time": "2023-10-26T21:52:45.045016",
     "status": "completed"
    },
    "tags": []
   },
   "outputs": [],
   "source": [
    "from functools import partial\n",
    "\n",
    "### Save dataset from parquet to files\n",
    "def save_file(row, tmp_dir): \n",
    "    total_img_path = osp.join(tmp_dir, row.file_names)\n",
    "    os.makedirs(osp.dirname(total_img_path), exist_ok=True)\n",
    "    with open(total_img_path, 'wb') as f_id:\n",
    "        f_id.write(row.files_binary)"
   ]
  },
  {
   "cell_type": "code",
   "execution_count": 8,
   "id": "45eee774-f478-48a7-bded-c54c1877aba1",
   "metadata": {
    "execution": {
     "iopub.execute_input": "2023-10-26T21:52:45.066524Z",
     "iopub.status.busy": "2023-10-26T21:52:45.066308Z",
     "iopub.status.idle": "2023-10-26T21:53:06.875470Z",
     "shell.execute_reply": "2023-10-26T21:53:06.875112Z"
    },
    "papermill": {
     "duration": 21.814182,
     "end_time": "2023-10-26T21:53:06.876362",
     "exception": false,
     "start_time": "2023-10-26T21:52:45.062180",
     "status": "completed"
    },
    "tags": []
   },
   "outputs": [
    {
     "name": "stdout",
     "output_type": "stream",
     "text": [
      "spark read start\n"
     ]
    },
    {
     "name": "stderr",
     "output_type": "stream",
     "text": [
      "[Stage 1:=========================================================================================================>                          (4 + 1) / 5]\r"
     ]
    },
    {
     "name": "stdout",
     "output_type": "stream",
     "text": [
      "CPU times: user 3.76 ms, sys: 8.46 ms, total: 12.2 ms\n",
      "Wall time: 21.8 s\n"
     ]
    },
    {
     "name": "stderr",
     "output_type": "stream",
     "text": [
      "                                                                                                                                                         \r"
     ]
    }
   ],
   "source": [
    "%%time\n",
    "\n",
    "# LOAD Train Images\n",
    "\n",
    "print(f\"spark read start\")\n",
    "df_spark = spark.read.parquet(tmp_outputs.load_train_data)\n",
    "df_spark.foreach(partial(save_file, tmp_dir=tmp_outputs.aug_dataset))"
   ]
  },
  {
   "cell_type": "code",
   "execution_count": 9,
   "id": "340bfd45-bd58-43ab-9d13-adb264aaeda3",
   "metadata": {
    "execution": {
     "iopub.execute_input": "2023-10-26T21:53:06.885674Z",
     "iopub.status.busy": "2023-10-26T21:53:06.885471Z",
     "iopub.status.idle": "2023-10-26T21:53:15.434841Z",
     "shell.execute_reply": "2023-10-26T21:53:15.434467Z"
    },
    "papermill": {
     "duration": 8.554933,
     "end_time": "2023-10-26T21:53:15.435858",
     "exception": false,
     "start_time": "2023-10-26T21:53:06.880925",
     "status": "completed"
    },
    "tags": []
   },
   "outputs": [
    {
     "name": "stdout",
     "output_type": "stream",
     "text": [
      "spark read start\n"
     ]
    },
    {
     "name": "stderr",
     "output_type": "stream",
     "text": [
      "[Stage 3:>                                                                                                                                   (0 + 4) / 4]\r"
     ]
    },
    {
     "name": "stdout",
     "output_type": "stream",
     "text": [
      "CPU times: user 5.81 ms, sys: 665 µs, total: 6.48 ms\n",
      "Wall time: 8.54 s\n"
     ]
    },
    {
     "name": "stderr",
     "output_type": "stream",
     "text": [
      "                                                                                                                                                         \r"
     ]
    }
   ],
   "source": [
    "%%time\n",
    "\n",
    "# LOAD Valid Images\n",
    "\n",
    "print(f\"spark read start\")\n",
    "df_spark = spark.read.parquet(tmp_outputs.load_eval_data)\n",
    "df_spark.foreach(partial(save_file, tmp_dir=tmp_outputs.aug_dataset))"
   ]
  },
  {
   "cell_type": "code",
   "execution_count": 10,
   "id": "67860126-bb3c-4737-9142-f67877045ec7",
   "metadata": {
    "execution": {
     "iopub.execute_input": "2023-10-26T21:53:15.446492Z",
     "iopub.status.busy": "2023-10-26T21:53:15.445990Z",
     "iopub.status.idle": "2023-10-26T21:53:16.443919Z",
     "shell.execute_reply": "2023-10-26T21:53:16.441844Z"
    },
    "papermill": {
     "duration": 1.008489,
     "end_time": "2023-10-26T21:53:16.449215",
     "exception": false,
     "start_time": "2023-10-26T21:53:15.440726",
     "status": "completed"
    },
    "tags": []
   },
   "outputs": [],
   "source": [
    "#9 stop spark\n",
    "SinaraSpark.stop_session()"
   ]
  },
  {
   "cell_type": "code",
   "execution_count": null,
   "id": "d3afa4ca-cb6d-4470-8da6-b84e4e0e74fc",
   "metadata": {
    "papermill": {
     "duration": 0.008096,
     "end_time": "2023-10-26T21:53:16.463449",
     "exception": false,
     "start_time": "2023-10-26T21:53:16.455353",
     "status": "completed"
    },
    "tags": []
   },
   "outputs": [],
   "source": []
  },
  {
   "cell_type": "code",
   "execution_count": 11,
   "id": "d5bf060d",
   "metadata": {
    "execution": {
     "iopub.execute_input": "2023-10-26T21:53:16.473360Z",
     "iopub.status.busy": "2023-10-26T21:53:16.473165Z",
     "iopub.status.idle": "2023-10-26T21:53:16.482564Z",
     "shell.execute_reply": "2023-10-26T21:53:16.482090Z"
    },
    "papermill": {
     "duration": 0.015385,
     "end_time": "2023-10-26T21:53:16.483580",
     "exception": false,
     "start_time": "2023-10-26T21:53:16.468195",
     "status": "completed"
    },
    "tags": [
     "serialize_run"
    ]
   },
   "outputs": [],
   "source": [
    "if \"substep\" in globals():\n",
    "    substep._serialize_run(\n",
    "                                            \"0_cache_datasets.ipynb\",\n",
    "                                            \"run-23-10-26-215221_0_cache_datasets.ipynb\",\n",
    "                                            \"2023-10-26 21:52:21.364466\",\n",
    "                                            pipeline_params,\n",
    "                                            step_params,\n",
    "                                            substep_params)\n",
    "else:\n",
    "    raise Exception('SINARA module must have defined module variable')"
   ]
  }
 ],
 "metadata": {
  "kernelspec": {
   "display_name": "cv",
   "language": "python",
   "name": "cv"
  },
  "language_info": {
   "codemirror_mode": {
    "name": "ipython",
    "version": 3
   },
   "file_extension": ".py",
   "mimetype": "text/x-python",
   "name": "python",
   "nbconvert_exporter": "python",
   "pygments_lexer": "ipython3",
   "version": "3.9.10"
  },
  "papermill": {
   "default_parameters": {},
   "duration": 57.465905,
   "end_time": "2023-10-26T21:53:19.108380",
   "environment_variables": {},
   "exception": null,
   "input_path": "/tmp/0_cache_datasets.ipynb",
   "output_path": "tmp/run-23-10-26-215221_0_cache_datasets.ipynb",
   "parameters": {
    "params": {
     "pipeline_params": {
      "env_name": "user",
      "pipeline_name": "yolox_mmdet",
      "zone_name": "test"
     },
     "step_params": {
      "step_name": "model_train"
     },
     "substeps_params": [
      {
       "substep_name": "0_cache_datasets.ipynb",
       "substep_params": {}
      },
      {
       "substep_name": "1_configure_train.ipynb",
       "substep_params": {
        "BATCH": 8,
        "EPOCH_COUNT": 5,
        "MAX_SIZE": 640,
        "MODEL_NAME": "yolox_s",
        "SEED": 42,
        "WORKERS": 0,
        "optimizer_lr": 0.001,
        "pretrain_weights": "https://download.openmmlab.com/mmdetection/v2.0/yolox/yolox_s_8x8_300e_coco/yolox_s_8x8_300e_coco_20211121_095711-4592a793.pth"
       }
      },
      {
       "substep_name": "2_train.ipynb",
       "substep_params": {
        "SEED": 42
       }
      }
     ]
    },
    "pipeline_params": {
     "env_name": "user",
     "pipeline_name": "yolox_mmdet",
     "zone_name": "test"
    },
    "step_params": {
     "step_name": "model_train"
    },
    "substep_params": {}
   },
   "start_time": "2023-10-26T21:52:21.642475",
   "version": "2.4.0"
  }
 },
 "nbformat": 4,
 "nbformat_minor": 5
}
